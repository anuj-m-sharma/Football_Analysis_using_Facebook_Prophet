{
  "nbformat": 4,
  "nbformat_minor": 5,
  "metadata": {
    "kernelspec": {
      "display_name": "Python 3",
      "language": "python",
      "name": "python3"
    },
    "language_info": {
      "codemirror_mode": {
        "name": "ipython",
        "version": 3
      },
      "file_extension": ".py",
      "mimetype": "text/x-python",
      "name": "python",
      "nbconvert_exporter": "python",
      "pygments_lexer": "ipython3",
      "version": "3.8.8"
    },
    "colab": {
      "name": "Facebook_Prophet.ipynb",
      "provenance": [],
      "collapsed_sections": [],
      "include_colab_link": true
    }
  },
  "cells": [
    {
      "cell_type": "markdown",
      "metadata": {
        "id": "view-in-github",
        "colab_type": "text"
      },
      "source": [
        "<a href=\"https://colab.research.google.com/github/anuj-m-sharma/Football_Analysis_using_Facebook_Prophet/blob/main/Facebook_Prophet.ipynb\" target=\"_parent\"><img src=\"https://colab.research.google.com/assets/colab-badge.svg\" alt=\"Open In Colab\"/></a>"
      ]
    },
    {
      "cell_type": "code",
      "metadata": {
        "colab": {
          "base_uri": "https://localhost:8080/"
        },
        "id": "96e81d1f",
        "outputId": "3bc95456-a749-4182-8be6-5b1aeb0b6ad8"
      },
      "source": [
        "import sys\n",
        "\n",
        "! conda install  -c conda-forge fbprophet"
      ],
      "id": "96e81d1f",
      "execution_count": null,
      "outputs": [
        {
          "output_type": "stream",
          "name": "stdout",
          "text": [
            "/bin/bash: conda: command not found\n"
          ]
        }
      ]
    },
    {
      "cell_type": "code",
      "metadata": {
        "id": "3c0e47e8"
      },
      "source": [
        "import pandas as pd"
      ],
      "id": "3c0e47e8",
      "execution_count": null,
      "outputs": []
    },
    {
      "cell_type": "code",
      "metadata": {
        "id": "e57b1909",
        "colab": {
          "base_uri": "https://localhost:8080/"
        },
        "outputId": "8fd68905-1445-4a02-8d5d-91a108becaf6"
      },
      "source": [
        "!conda install -c conda-forge fbprophet -y\n"
      ],
      "id": "e57b1909",
      "execution_count": null,
      "outputs": [
        {
          "output_type": "stream",
          "name": "stdout",
          "text": [
            "/bin/bash: conda: command not found\n"
          ]
        }
      ]
    },
    {
      "cell_type": "code",
      "metadata": {
        "id": "67b5dcad"
      },
      "source": [
        "\n",
        "import fbprophet\n",
        "\n"
      ],
      "id": "67b5dcad",
      "execution_count": null,
      "outputs": []
    },
    {
      "cell_type": "code",
      "metadata": {
        "id": "098c3079"
      },
      "source": [
        "import matplotlib.pyplot as plt\n",
        "%matplotlib inline"
      ],
      "id": "098c3079",
      "execution_count": null,
      "outputs": []
    },
    {
      "cell_type": "code",
      "metadata": {
        "id": "03fe4c2e"
      },
      "source": [
        "prop_data=pd.read_csv('Prophet_data.csv')"
      ],
      "id": "03fe4c2e",
      "execution_count": null,
      "outputs": []
    },
    {
      "cell_type": "code",
      "metadata": {
        "colab": {
          "base_uri": "https://localhost:8080/",
          "height": 425
        },
        "id": "86bc6862",
        "outputId": "3293a723-0da3-4437-db1a-39518c537dfc"
      },
      "source": [
        "prop_data.head()"
      ],
      "id": "86bc6862",
      "execution_count": null,
      "outputs": [
        {
          "output_type": "execute_result",
          "data": {
            "text/html": [
              "<div>\n",
              "<style scoped>\n",
              "    .dataframe tbody tr th:only-of-type {\n",
              "        vertical-align: middle;\n",
              "    }\n",
              "\n",
              "    .dataframe tbody tr th {\n",
              "        vertical-align: top;\n",
              "    }\n",
              "\n",
              "    .dataframe thead th {\n",
              "        text-align: right;\n",
              "    }\n",
              "</style>\n",
              "<table border=\"1\" class=\"dataframe\">\n",
              "  <thead>\n",
              "    <tr style=\"text-align: right;\">\n",
              "      <th></th>\n",
              "      <th>Date</th>\n",
              "      <th>Month</th>\n",
              "      <th>playId</th>\n",
              "      <th>playDescription</th>\n",
              "      <th>quarter</th>\n",
              "      <th>down</th>\n",
              "      <th>yardsToGo</th>\n",
              "      <th>possessionTeam</th>\n",
              "      <th>specialTeamsPlayType</th>\n",
              "      <th>specialTeamsResult</th>\n",
              "      <th>Good/No Good</th>\n",
              "      <th>kickerId</th>\n",
              "      <th>returnerId</th>\n",
              "      <th>kickBlockerId</th>\n",
              "      <th>yardlineSide</th>\n",
              "      <th>yardlineNumber</th>\n",
              "      <th>gameClock</th>\n",
              "      <th>penaltyCodes</th>\n",
              "      <th>penaltyJerseyNumbers</th>\n",
              "      <th>penaltyYards</th>\n",
              "      <th>preSnapHomeScore</th>\n",
              "      <th>preSnapVisitorScore</th>\n",
              "      <th>passResult</th>\n",
              "      <th>kickLength</th>\n",
              "      <th>kickReturnYardage</th>\n",
              "      <th>playResult</th>\n",
              "      <th>absoluteYardlineNumber</th>\n",
              "    </tr>\n",
              "  </thead>\n",
              "  <tbody>\n",
              "    <tr>\n",
              "      <th>0</th>\n",
              "      <td>2018-09</td>\n",
              "      <td>september</td>\n",
              "      <td>658</td>\n",
              "      <td>(5:03) M.Bryant 21 yard field goal is GOOD, Ce...</td>\n",
              "      <td>1</td>\n",
              "      <td>4</td>\n",
              "      <td>3</td>\n",
              "      <td>ATL</td>\n",
              "      <td>Field Goal</td>\n",
              "      <td>Kick Attempt Good</td>\n",
              "      <td>1</td>\n",
              "      <td>27091</td>\n",
              "      <td>NaN</td>\n",
              "      <td>NaN</td>\n",
              "      <td>PHI</td>\n",
              "      <td>3</td>\n",
              "      <td>05:03:00</td>\n",
              "      <td>NaN</td>\n",
              "      <td>NaN</td>\n",
              "      <td>NaN</td>\n",
              "      <td>0</td>\n",
              "      <td>0</td>\n",
              "      <td>NaN</td>\n",
              "      <td>21</td>\n",
              "      <td>NaN</td>\n",
              "      <td>0</td>\n",
              "      <td>13</td>\n",
              "    </tr>\n",
              "    <tr>\n",
              "      <th>1</th>\n",
              "      <td>2018-09</td>\n",
              "      <td>september</td>\n",
              "      <td>1368</td>\n",
              "      <td>(6:12) J.Elliott 26 yard field goal is GOOD, C...</td>\n",
              "      <td>2</td>\n",
              "      <td>4</td>\n",
              "      <td>8</td>\n",
              "      <td>PHI</td>\n",
              "      <td>Field Goal</td>\n",
              "      <td>Kick Attempt Good</td>\n",
              "      <td>1</td>\n",
              "      <td>44966</td>\n",
              "      <td>NaN</td>\n",
              "      <td>NaN</td>\n",
              "      <td>ATL</td>\n",
              "      <td>8</td>\n",
              "      <td>06:12:00</td>\n",
              "      <td>NaN</td>\n",
              "      <td>NaN</td>\n",
              "      <td>NaN</td>\n",
              "      <td>0</td>\n",
              "      <td>3</td>\n",
              "      <td>NaN</td>\n",
              "      <td>26</td>\n",
              "      <td>NaN</td>\n",
              "      <td>0</td>\n",
              "      <td>18</td>\n",
              "    </tr>\n",
              "    <tr>\n",
              "      <th>2</th>\n",
              "      <td>2018-09</td>\n",
              "      <td>september</td>\n",
              "      <td>1587</td>\n",
              "      <td>(2:13) M.Bryant 52 yard field goal is GOOD, Ce...</td>\n",
              "      <td>2</td>\n",
              "      <td>4</td>\n",
              "      <td>17</td>\n",
              "      <td>ATL</td>\n",
              "      <td>Field Goal</td>\n",
              "      <td>Kick Attempt Good</td>\n",
              "      <td>1</td>\n",
              "      <td>27091</td>\n",
              "      <td>NaN</td>\n",
              "      <td>NaN</td>\n",
              "      <td>PHI</td>\n",
              "      <td>34</td>\n",
              "      <td>02:13:00</td>\n",
              "      <td>NaN</td>\n",
              "      <td>NaN</td>\n",
              "      <td>NaN</td>\n",
              "      <td>3</td>\n",
              "      <td>3</td>\n",
              "      <td>NaN</td>\n",
              "      <td>52</td>\n",
              "      <td>NaN</td>\n",
              "      <td>0</td>\n",
              "      <td>76</td>\n",
              "    </tr>\n",
              "    <tr>\n",
              "      <th>3</th>\n",
              "      <td>2018-09</td>\n",
              "      <td>september</td>\n",
              "      <td>1226</td>\n",
              "      <td>(13:18) (Field Goal formation) J.Tucker 41 yar...</td>\n",
              "      <td>2</td>\n",
              "      <td>4</td>\n",
              "      <td>13</td>\n",
              "      <td>BAL</td>\n",
              "      <td>Field Goal</td>\n",
              "      <td>Kick Attempt Good</td>\n",
              "      <td>1</td>\n",
              "      <td>39470</td>\n",
              "      <td>NaN</td>\n",
              "      <td>NaN</td>\n",
              "      <td>BUF</td>\n",
              "      <td>23</td>\n",
              "      <td>13:18:00</td>\n",
              "      <td>NaN</td>\n",
              "      <td>NaN</td>\n",
              "      <td>NaN</td>\n",
              "      <td>14</td>\n",
              "      <td>0</td>\n",
              "      <td>NaN</td>\n",
              "      <td>41</td>\n",
              "      <td>NaN</td>\n",
              "      <td>0</td>\n",
              "      <td>33</td>\n",
              "    </tr>\n",
              "    <tr>\n",
              "      <th>4</th>\n",
              "      <td>2018-09</td>\n",
              "      <td>september</td>\n",
              "      <td>1613</td>\n",
              "      <td>(8:48) (Field Goal formation) S.Hauschka 52 ya...</td>\n",
              "      <td>2</td>\n",
              "      <td>4</td>\n",
              "      <td>9</td>\n",
              "      <td>BUF</td>\n",
              "      <td>Field Goal</td>\n",
              "      <td>Kick Attempt No Good</td>\n",
              "      <td>0</td>\n",
              "      <td>33469</td>\n",
              "      <td>NaN</td>\n",
              "      <td>NaN</td>\n",
              "      <td>BAL</td>\n",
              "      <td>34</td>\n",
              "      <td>08:48:00</td>\n",
              "      <td>NaN</td>\n",
              "      <td>NaN</td>\n",
              "      <td>NaN</td>\n",
              "      <td>17</td>\n",
              "      <td>0</td>\n",
              "      <td>NaN</td>\n",
              "      <td>52</td>\n",
              "      <td>NaN</td>\n",
              "      <td>-8</td>\n",
              "      <td>76</td>\n",
              "    </tr>\n",
              "  </tbody>\n",
              "</table>\n",
              "</div>"
            ],
            "text/plain": [
              "      Date      Month  ...  playResult absoluteYardlineNumber\n",
              "0  2018-09  september  ...           0                     13\n",
              "1  2018-09  september  ...           0                     18\n",
              "2  2018-09  september  ...           0                     76\n",
              "3  2018-09  september  ...           0                     33\n",
              "4  2018-09  september  ...          -8                     76\n",
              "\n",
              "[5 rows x 27 columns]"
            ]
          },
          "metadata": {},
          "execution_count": 8
        }
      ]
    },
    {
      "cell_type": "code",
      "metadata": {
        "colab": {
          "base_uri": "https://localhost:8080/"
        },
        "id": "004c82d3",
        "outputId": "fc0c113c-4167-4961-c6da-19f0237d2f94"
      },
      "source": [
        "prop_data.info()"
      ],
      "id": "004c82d3",
      "execution_count": null,
      "outputs": [
        {
          "output_type": "stream",
          "name": "stdout",
          "text": [
            "<class 'pandas.core.frame.DataFrame'>\n",
            "RangeIndex: 890 entries, 0 to 889\n",
            "Data columns (total 27 columns):\n",
            " #   Column                  Non-Null Count  Dtype  \n",
            "---  ------                  --------------  -----  \n",
            " 0   Date                    890 non-null    object \n",
            " 1   Month                   890 non-null    object \n",
            " 2   playId                  890 non-null    int64  \n",
            " 3   playDescription         890 non-null    object \n",
            " 4   quarter                 890 non-null    int64  \n",
            " 5   down                    890 non-null    int64  \n",
            " 6   yardsToGo               890 non-null    int64  \n",
            " 7   possessionTeam          890 non-null    object \n",
            " 8   specialTeamsPlayType    890 non-null    object \n",
            " 9   specialTeamsResult      890 non-null    object \n",
            " 10  Good/No Good            890 non-null    int64  \n",
            " 11  kickerId                890 non-null    int64  \n",
            " 12  returnerId              1 non-null      float64\n",
            " 13  kickBlockerId           0 non-null      float64\n",
            " 14  yardlineSide            890 non-null    object \n",
            " 15  yardlineNumber          890 non-null    int64  \n",
            " 16  gameClock               890 non-null    object \n",
            " 17  penaltyCodes            18 non-null     object \n",
            " 18  penaltyJerseyNumbers    18 non-null     object \n",
            " 19  penaltyYards            18 non-null     float64\n",
            " 20  preSnapHomeScore        890 non-null    int64  \n",
            " 21  preSnapVisitorScore     890 non-null    int64  \n",
            " 22  passResult              0 non-null      float64\n",
            " 23  kickLength              890 non-null    int64  \n",
            " 24  kickReturnYardage       0 non-null      float64\n",
            " 25  playResult              890 non-null    int64  \n",
            " 26  absoluteYardlineNumber  890 non-null    int64  \n",
            "dtypes: float64(5), int64(12), object(10)\n",
            "memory usage: 187.9+ KB\n"
          ]
        }
      ]
    },
    {
      "cell_type": "code",
      "metadata": {
        "id": "635189d4"
      },
      "source": [
        "df_prop = [prop_data['Date'], prop_data['Good/No Good']]\n",
        "headers = [\"date\", \"Good\"]\n",
        "df = pd.concat(df_prop, axis=1, keys=headers)"
      ],
      "id": "635189d4",
      "execution_count": null,
      "outputs": []
    },
    {
      "cell_type": "code",
      "metadata": {
        "colab": {
          "base_uri": "https://localhost:8080/",
          "height": 203
        },
        "id": "8ba038c2",
        "outputId": "a00dbd4a-0260-423f-fe1a-d3c31b96b4d3"
      },
      "source": [
        "df.head()"
      ],
      "id": "8ba038c2",
      "execution_count": null,
      "outputs": [
        {
          "output_type": "execute_result",
          "data": {
            "text/html": [
              "<div>\n",
              "<style scoped>\n",
              "    .dataframe tbody tr th:only-of-type {\n",
              "        vertical-align: middle;\n",
              "    }\n",
              "\n",
              "    .dataframe tbody tr th {\n",
              "        vertical-align: top;\n",
              "    }\n",
              "\n",
              "    .dataframe thead th {\n",
              "        text-align: right;\n",
              "    }\n",
              "</style>\n",
              "<table border=\"1\" class=\"dataframe\">\n",
              "  <thead>\n",
              "    <tr style=\"text-align: right;\">\n",
              "      <th></th>\n",
              "      <th>date</th>\n",
              "      <th>Good</th>\n",
              "    </tr>\n",
              "  </thead>\n",
              "  <tbody>\n",
              "    <tr>\n",
              "      <th>0</th>\n",
              "      <td>2018-09</td>\n",
              "      <td>1</td>\n",
              "    </tr>\n",
              "    <tr>\n",
              "      <th>1</th>\n",
              "      <td>2018-09</td>\n",
              "      <td>1</td>\n",
              "    </tr>\n",
              "    <tr>\n",
              "      <th>2</th>\n",
              "      <td>2018-09</td>\n",
              "      <td>1</td>\n",
              "    </tr>\n",
              "    <tr>\n",
              "      <th>3</th>\n",
              "      <td>2018-09</td>\n",
              "      <td>1</td>\n",
              "    </tr>\n",
              "    <tr>\n",
              "      <th>4</th>\n",
              "      <td>2018-09</td>\n",
              "      <td>0</td>\n",
              "    </tr>\n",
              "  </tbody>\n",
              "</table>\n",
              "</div>"
            ],
            "text/plain": [
              "      date  Good\n",
              "0  2018-09     1\n",
              "1  2018-09     1\n",
              "2  2018-09     1\n",
              "3  2018-09     1\n",
              "4  2018-09     0"
            ]
          },
          "metadata": {},
          "execution_count": 11
        }
      ]
    },
    {
      "cell_type": "code",
      "metadata": {
        "colab": {
          "base_uri": "https://localhost:8080/",
          "height": 203
        },
        "id": "96141086",
        "outputId": "de689be6-3d2f-419f-a684-4072c6fdfa36"
      },
      "source": [
        "df.columns = ['ds','y']\n",
        "df.head()"
      ],
      "id": "96141086",
      "execution_count": null,
      "outputs": [
        {
          "output_type": "execute_result",
          "data": {
            "text/html": [
              "<div>\n",
              "<style scoped>\n",
              "    .dataframe tbody tr th:only-of-type {\n",
              "        vertical-align: middle;\n",
              "    }\n",
              "\n",
              "    .dataframe tbody tr th {\n",
              "        vertical-align: top;\n",
              "    }\n",
              "\n",
              "    .dataframe thead th {\n",
              "        text-align: right;\n",
              "    }\n",
              "</style>\n",
              "<table border=\"1\" class=\"dataframe\">\n",
              "  <thead>\n",
              "    <tr style=\"text-align: right;\">\n",
              "      <th></th>\n",
              "      <th>ds</th>\n",
              "      <th>y</th>\n",
              "    </tr>\n",
              "  </thead>\n",
              "  <tbody>\n",
              "    <tr>\n",
              "      <th>0</th>\n",
              "      <td>2018-09</td>\n",
              "      <td>1</td>\n",
              "    </tr>\n",
              "    <tr>\n",
              "      <th>1</th>\n",
              "      <td>2018-09</td>\n",
              "      <td>1</td>\n",
              "    </tr>\n",
              "    <tr>\n",
              "      <th>2</th>\n",
              "      <td>2018-09</td>\n",
              "      <td>1</td>\n",
              "    </tr>\n",
              "    <tr>\n",
              "      <th>3</th>\n",
              "      <td>2018-09</td>\n",
              "      <td>1</td>\n",
              "    </tr>\n",
              "    <tr>\n",
              "      <th>4</th>\n",
              "      <td>2018-09</td>\n",
              "      <td>0</td>\n",
              "    </tr>\n",
              "  </tbody>\n",
              "</table>\n",
              "</div>"
            ],
            "text/plain": [
              "        ds  y\n",
              "0  2018-09  1\n",
              "1  2018-09  1\n",
              "2  2018-09  1\n",
              "3  2018-09  1\n",
              "4  2018-09  0"
            ]
          },
          "metadata": {},
          "execution_count": 12
        }
      ]
    },
    {
      "cell_type": "code",
      "metadata": {
        "id": "ea6f9fa4"
      },
      "source": [
        "df['ds'] = pd.to_datetime(df['ds'])"
      ],
      "id": "ea6f9fa4",
      "execution_count": null,
      "outputs": []
    },
    {
      "cell_type": "code",
      "metadata": {
        "colab": {
          "base_uri": "https://localhost:8080/",
          "height": 203
        },
        "id": "76602598",
        "outputId": "503e01b6-068f-4aa9-e184-8418a0be2abe"
      },
      "source": [
        "df.head()"
      ],
      "id": "76602598",
      "execution_count": null,
      "outputs": [
        {
          "output_type": "execute_result",
          "data": {
            "text/html": [
              "<div>\n",
              "<style scoped>\n",
              "    .dataframe tbody tr th:only-of-type {\n",
              "        vertical-align: middle;\n",
              "    }\n",
              "\n",
              "    .dataframe tbody tr th {\n",
              "        vertical-align: top;\n",
              "    }\n",
              "\n",
              "    .dataframe thead th {\n",
              "        text-align: right;\n",
              "    }\n",
              "</style>\n",
              "<table border=\"1\" class=\"dataframe\">\n",
              "  <thead>\n",
              "    <tr style=\"text-align: right;\">\n",
              "      <th></th>\n",
              "      <th>ds</th>\n",
              "      <th>y</th>\n",
              "    </tr>\n",
              "  </thead>\n",
              "  <tbody>\n",
              "    <tr>\n",
              "      <th>0</th>\n",
              "      <td>2018-09-01</td>\n",
              "      <td>1</td>\n",
              "    </tr>\n",
              "    <tr>\n",
              "      <th>1</th>\n",
              "      <td>2018-09-01</td>\n",
              "      <td>1</td>\n",
              "    </tr>\n",
              "    <tr>\n",
              "      <th>2</th>\n",
              "      <td>2018-09-01</td>\n",
              "      <td>1</td>\n",
              "    </tr>\n",
              "    <tr>\n",
              "      <th>3</th>\n",
              "      <td>2018-09-01</td>\n",
              "      <td>1</td>\n",
              "    </tr>\n",
              "    <tr>\n",
              "      <th>4</th>\n",
              "      <td>2018-09-01</td>\n",
              "      <td>0</td>\n",
              "    </tr>\n",
              "  </tbody>\n",
              "</table>\n",
              "</div>"
            ],
            "text/plain": [
              "          ds  y\n",
              "0 2018-09-01  1\n",
              "1 2018-09-01  1\n",
              "2 2018-09-01  1\n",
              "3 2018-09-01  1\n",
              "4 2018-09-01  0"
            ]
          },
          "metadata": {},
          "execution_count": 14
        }
      ]
    },
    {
      "cell_type": "code",
      "metadata": {
        "id": "6deb6d6c"
      },
      "source": [
        "from fbprophet import Prophet"
      ],
      "id": "6deb6d6c",
      "execution_count": null,
      "outputs": []
    },
    {
      "cell_type": "code",
      "metadata": {
        "id": "42ce4f22"
      },
      "source": [
        "model=Prophet()"
      ],
      "id": "42ce4f22",
      "execution_count": null,
      "outputs": []
    },
    {
      "cell_type": "code",
      "metadata": {
        "colab": {
          "base_uri": "https://localhost:8080/"
        },
        "id": "518f04df",
        "outputId": "9c7637da-8c90-43bc-cdcb-90a57c9e4902"
      },
      "source": [
        "df.columns"
      ],
      "id": "518f04df",
      "execution_count": null,
      "outputs": [
        {
          "output_type": "execute_result",
          "data": {
            "text/plain": [
              "Index(['ds', 'y'], dtype='object')"
            ]
          },
          "metadata": {},
          "execution_count": 17
        }
      ]
    },
    {
      "cell_type": "code",
      "metadata": {
        "colab": {
          "base_uri": "https://localhost:8080/"
        },
        "id": "70e28830",
        "outputId": "73de30ed-6086-41d1-aad3-4dab19c72e74"
      },
      "source": [
        "df.dropna(axis=0,inplace=True)"
      ],
      "id": "70e28830",
      "execution_count": null,
      "outputs": [
        {
          "output_type": "stream",
          "name": "stderr",
          "text": [
            "INFO:numexpr.utils:NumExpr defaulting to 2 threads.\n"
          ]
        }
      ]
    },
    {
      "cell_type": "code",
      "metadata": {
        "colab": {
          "base_uri": "https://localhost:8080/",
          "height": 203
        },
        "id": "1fcaa694",
        "outputId": "38cf84c8-8fac-4212-d628-1582f567b7d6"
      },
      "source": [
        "df.head()"
      ],
      "id": "1fcaa694",
      "execution_count": null,
      "outputs": [
        {
          "output_type": "execute_result",
          "data": {
            "text/html": [
              "<div>\n",
              "<style scoped>\n",
              "    .dataframe tbody tr th:only-of-type {\n",
              "        vertical-align: middle;\n",
              "    }\n",
              "\n",
              "    .dataframe tbody tr th {\n",
              "        vertical-align: top;\n",
              "    }\n",
              "\n",
              "    .dataframe thead th {\n",
              "        text-align: right;\n",
              "    }\n",
              "</style>\n",
              "<table border=\"1\" class=\"dataframe\">\n",
              "  <thead>\n",
              "    <tr style=\"text-align: right;\">\n",
              "      <th></th>\n",
              "      <th>ds</th>\n",
              "      <th>y</th>\n",
              "    </tr>\n",
              "  </thead>\n",
              "  <tbody>\n",
              "    <tr>\n",
              "      <th>0</th>\n",
              "      <td>2018-09-01</td>\n",
              "      <td>1</td>\n",
              "    </tr>\n",
              "    <tr>\n",
              "      <th>1</th>\n",
              "      <td>2018-09-01</td>\n",
              "      <td>1</td>\n",
              "    </tr>\n",
              "    <tr>\n",
              "      <th>2</th>\n",
              "      <td>2018-09-01</td>\n",
              "      <td>1</td>\n",
              "    </tr>\n",
              "    <tr>\n",
              "      <th>3</th>\n",
              "      <td>2018-09-01</td>\n",
              "      <td>1</td>\n",
              "    </tr>\n",
              "    <tr>\n",
              "      <th>4</th>\n",
              "      <td>2018-09-01</td>\n",
              "      <td>0</td>\n",
              "    </tr>\n",
              "  </tbody>\n",
              "</table>\n",
              "</div>"
            ],
            "text/plain": [
              "          ds  y\n",
              "0 2018-09-01  1\n",
              "1 2018-09-01  1\n",
              "2 2018-09-01  1\n",
              "3 2018-09-01  1\n",
              "4 2018-09-01  0"
            ]
          },
          "metadata": {},
          "execution_count": 19
        }
      ]
    },
    {
      "cell_type": "code",
      "metadata": {
        "colab": {
          "base_uri": "https://localhost:8080/"
        },
        "id": "971f396a",
        "outputId": "cf810719-4bd5-4eec-d230-c945394ead59"
      },
      "source": [
        "model.fit(df)"
      ],
      "id": "971f396a",
      "execution_count": null,
      "outputs": [
        {
          "output_type": "stream",
          "name": "stderr",
          "text": [
            "INFO:fbprophet:Disabling yearly seasonality. Run prophet with yearly_seasonality=True to override this.\n",
            "INFO:fbprophet:Disabling weekly seasonality. Run prophet with weekly_seasonality=True to override this.\n",
            "INFO:fbprophet:Disabling daily seasonality. Run prophet with daily_seasonality=True to override this.\n"
          ]
        },
        {
          "output_type": "execute_result",
          "data": {
            "text/plain": [
              "<fbprophet.forecaster.Prophet at 0x7f84a62f5750>"
            ]
          },
          "metadata": {},
          "execution_count": 20
        }
      ]
    },
    {
      "cell_type": "code",
      "metadata": {
        "colab": {
          "base_uri": "https://localhost:8080/"
        },
        "id": "0ae98ff7",
        "outputId": "390d43c9-e5e1-4792-fdf7-45dcee070b49"
      },
      "source": [
        "model.component_modes\n"
      ],
      "id": "0ae98ff7",
      "execution_count": null,
      "outputs": [
        {
          "output_type": "execute_result",
          "data": {
            "text/plain": [
              "{'additive': ['additive_terms', 'extra_regressors_additive', 'holidays'],\n",
              " 'multiplicative': ['multiplicative_terms', 'extra_regressors_multiplicative']}"
            ]
          },
          "metadata": {},
          "execution_count": 21
        }
      ]
    },
    {
      "cell_type": "code",
      "metadata": {
        "colab": {
          "base_uri": "https://localhost:8080/",
          "height": 203
        },
        "id": "SJHteF6MKfoT",
        "outputId": "24e8092f-7859-4c07-de34-94cdcab45a9d"
      },
      "source": [
        "df.tail()"
      ],
      "id": "SJHteF6MKfoT",
      "execution_count": null,
      "outputs": [
        {
          "output_type": "execute_result",
          "data": {
            "text/html": [
              "<div>\n",
              "<style scoped>\n",
              "    .dataframe tbody tr th:only-of-type {\n",
              "        vertical-align: middle;\n",
              "    }\n",
              "\n",
              "    .dataframe tbody tr th {\n",
              "        vertical-align: top;\n",
              "    }\n",
              "\n",
              "    .dataframe thead th {\n",
              "        text-align: right;\n",
              "    }\n",
              "</style>\n",
              "<table border=\"1\" class=\"dataframe\">\n",
              "  <thead>\n",
              "    <tr style=\"text-align: right;\">\n",
              "      <th></th>\n",
              "      <th>ds</th>\n",
              "      <th>y</th>\n",
              "    </tr>\n",
              "  </thead>\n",
              "  <tbody>\n",
              "    <tr>\n",
              "      <th>885</th>\n",
              "      <td>2018-12-01</td>\n",
              "      <td>1</td>\n",
              "    </tr>\n",
              "    <tr>\n",
              "      <th>886</th>\n",
              "      <td>2018-12-01</td>\n",
              "      <td>1</td>\n",
              "    </tr>\n",
              "    <tr>\n",
              "      <th>887</th>\n",
              "      <td>2018-12-01</td>\n",
              "      <td>1</td>\n",
              "    </tr>\n",
              "    <tr>\n",
              "      <th>888</th>\n",
              "      <td>2018-12-01</td>\n",
              "      <td>1</td>\n",
              "    </tr>\n",
              "    <tr>\n",
              "      <th>889</th>\n",
              "      <td>2018-12-01</td>\n",
              "      <td>1</td>\n",
              "    </tr>\n",
              "  </tbody>\n",
              "</table>\n",
              "</div>"
            ],
            "text/plain": [
              "            ds  y\n",
              "885 2018-12-01  1\n",
              "886 2018-12-01  1\n",
              "887 2018-12-01  1\n",
              "888 2018-12-01  1\n",
              "889 2018-12-01  1"
            ]
          },
          "metadata": {},
          "execution_count": 22
        }
      ]
    },
    {
      "cell_type": "code",
      "metadata": {
        "id": "MkCyVWeiKiV8"
      },
      "source": [
        "future=model.make_future_dataframe(periods=365)\n"
      ],
      "id": "MkCyVWeiKiV8",
      "execution_count": null,
      "outputs": []
    },
    {
      "cell_type": "code",
      "metadata": {
        "colab": {
          "base_uri": "https://localhost:8080/",
          "height": 203
        },
        "id": "gEV5dHA9KknK",
        "outputId": "687c9b5d-6ca3-4eac-c271-742ac5152660"
      },
      "source": [
        "future.tail()"
      ],
      "id": "gEV5dHA9KknK",
      "execution_count": null,
      "outputs": [
        {
          "output_type": "execute_result",
          "data": {
            "text/html": [
              "<div>\n",
              "<style scoped>\n",
              "    .dataframe tbody tr th:only-of-type {\n",
              "        vertical-align: middle;\n",
              "    }\n",
              "\n",
              "    .dataframe tbody tr th {\n",
              "        vertical-align: top;\n",
              "    }\n",
              "\n",
              "    .dataframe thead th {\n",
              "        text-align: right;\n",
              "    }\n",
              "</style>\n",
              "<table border=\"1\" class=\"dataframe\">\n",
              "  <thead>\n",
              "    <tr style=\"text-align: right;\">\n",
              "      <th></th>\n",
              "      <th>ds</th>\n",
              "    </tr>\n",
              "  </thead>\n",
              "  <tbody>\n",
              "    <tr>\n",
              "      <th>364</th>\n",
              "      <td>2019-11-27</td>\n",
              "    </tr>\n",
              "    <tr>\n",
              "      <th>365</th>\n",
              "      <td>2019-11-28</td>\n",
              "    </tr>\n",
              "    <tr>\n",
              "      <th>366</th>\n",
              "      <td>2019-11-29</td>\n",
              "    </tr>\n",
              "    <tr>\n",
              "      <th>367</th>\n",
              "      <td>2019-11-30</td>\n",
              "    </tr>\n",
              "    <tr>\n",
              "      <th>368</th>\n",
              "      <td>2019-12-01</td>\n",
              "    </tr>\n",
              "  </tbody>\n",
              "</table>\n",
              "</div>"
            ],
            "text/plain": [
              "            ds\n",
              "364 2019-11-27\n",
              "365 2019-11-28\n",
              "366 2019-11-29\n",
              "367 2019-11-30\n",
              "368 2019-12-01"
            ]
          },
          "metadata": {},
          "execution_count": 26
        }
      ]
    },
    {
      "cell_type": "code",
      "metadata": {
        "id": "ouRZ9cddKnZq"
      },
      "source": [
        "pred_data=model.predict(future)"
      ],
      "id": "ouRZ9cddKnZq",
      "execution_count": null,
      "outputs": []
    },
    {
      "cell_type": "code",
      "metadata": {
        "colab": {
          "base_uri": "https://localhost:8080/",
          "height": 307
        },
        "id": "50jtOa9rKpAC",
        "outputId": "65e79eb7-c11a-4070-85e9-cb10048f765e"
      },
      "source": [
        "pred_data.head()"
      ],
      "id": "50jtOa9rKpAC",
      "execution_count": null,
      "outputs": [
        {
          "output_type": "execute_result",
          "data": {
            "text/html": [
              "<div>\n",
              "<style scoped>\n",
              "    .dataframe tbody tr th:only-of-type {\n",
              "        vertical-align: middle;\n",
              "    }\n",
              "\n",
              "    .dataframe tbody tr th {\n",
              "        vertical-align: top;\n",
              "    }\n",
              "\n",
              "    .dataframe thead th {\n",
              "        text-align: right;\n",
              "    }\n",
              "</style>\n",
              "<table border=\"1\" class=\"dataframe\">\n",
              "  <thead>\n",
              "    <tr style=\"text-align: right;\">\n",
              "      <th></th>\n",
              "      <th>ds</th>\n",
              "      <th>trend</th>\n",
              "      <th>yhat_lower</th>\n",
              "      <th>yhat_upper</th>\n",
              "      <th>trend_lower</th>\n",
              "      <th>trend_upper</th>\n",
              "      <th>additive_terms</th>\n",
              "      <th>additive_terms_lower</th>\n",
              "      <th>additive_terms_upper</th>\n",
              "      <th>multiplicative_terms</th>\n",
              "      <th>multiplicative_terms_lower</th>\n",
              "      <th>multiplicative_terms_upper</th>\n",
              "      <th>yhat</th>\n",
              "    </tr>\n",
              "  </thead>\n",
              "  <tbody>\n",
              "    <tr>\n",
              "      <th>0</th>\n",
              "      <td>2018-09-01</td>\n",
              "      <td>0.858140</td>\n",
              "      <td>0.428923</td>\n",
              "      <td>1.308413</td>\n",
              "      <td>0.858140</td>\n",
              "      <td>0.858140</td>\n",
              "      <td>0.0</td>\n",
              "      <td>0.0</td>\n",
              "      <td>0.0</td>\n",
              "      <td>0.0</td>\n",
              "      <td>0.0</td>\n",
              "      <td>0.0</td>\n",
              "      <td>0.858140</td>\n",
              "    </tr>\n",
              "    <tr>\n",
              "      <th>1</th>\n",
              "      <td>2018-10-01</td>\n",
              "      <td>0.859577</td>\n",
              "      <td>0.403801</td>\n",
              "      <td>1.286289</td>\n",
              "      <td>0.859577</td>\n",
              "      <td>0.859577</td>\n",
              "      <td>0.0</td>\n",
              "      <td>0.0</td>\n",
              "      <td>0.0</td>\n",
              "      <td>0.0</td>\n",
              "      <td>0.0</td>\n",
              "      <td>0.0</td>\n",
              "      <td>0.859577</td>\n",
              "    </tr>\n",
              "    <tr>\n",
              "      <th>2</th>\n",
              "      <td>2018-11-01</td>\n",
              "      <td>0.861061</td>\n",
              "      <td>0.423437</td>\n",
              "      <td>1.278945</td>\n",
              "      <td>0.861061</td>\n",
              "      <td>0.861061</td>\n",
              "      <td>0.0</td>\n",
              "      <td>0.0</td>\n",
              "      <td>0.0</td>\n",
              "      <td>0.0</td>\n",
              "      <td>0.0</td>\n",
              "      <td>0.0</td>\n",
              "      <td>0.861061</td>\n",
              "    </tr>\n",
              "    <tr>\n",
              "      <th>3</th>\n",
              "      <td>2018-12-01</td>\n",
              "      <td>0.862498</td>\n",
              "      <td>0.407991</td>\n",
              "      <td>1.317469</td>\n",
              "      <td>0.862498</td>\n",
              "      <td>0.862498</td>\n",
              "      <td>0.0</td>\n",
              "      <td>0.0</td>\n",
              "      <td>0.0</td>\n",
              "      <td>0.0</td>\n",
              "      <td>0.0</td>\n",
              "      <td>0.0</td>\n",
              "      <td>0.862498</td>\n",
              "    </tr>\n",
              "    <tr>\n",
              "      <th>4</th>\n",
              "      <td>2018-12-02</td>\n",
              "      <td>0.862546</td>\n",
              "      <td>0.448078</td>\n",
              "      <td>1.286492</td>\n",
              "      <td>0.862546</td>\n",
              "      <td>0.862546</td>\n",
              "      <td>0.0</td>\n",
              "      <td>0.0</td>\n",
              "      <td>0.0</td>\n",
              "      <td>0.0</td>\n",
              "      <td>0.0</td>\n",
              "      <td>0.0</td>\n",
              "      <td>0.862546</td>\n",
              "    </tr>\n",
              "  </tbody>\n",
              "</table>\n",
              "</div>"
            ],
            "text/plain": [
              "          ds     trend  ...  multiplicative_terms_upper      yhat\n",
              "0 2018-09-01  0.858140  ...                         0.0  0.858140\n",
              "1 2018-10-01  0.859577  ...                         0.0  0.859577\n",
              "2 2018-11-01  0.861061  ...                         0.0  0.861061\n",
              "3 2018-12-01  0.862498  ...                         0.0  0.862498\n",
              "4 2018-12-02  0.862546  ...                         0.0  0.862546\n",
              "\n",
              "[5 rows x 13 columns]"
            ]
          },
          "metadata": {},
          "execution_count": 29
        }
      ]
    },
    {
      "cell_type": "code",
      "metadata": {
        "colab": {
          "base_uri": "https://localhost:8080/",
          "height": 865
        },
        "id": "e-2HSOrzKrjN",
        "outputId": "b7ada66b-1b0f-444c-ca9b-569624f803e6"
      },
      "source": [
        "model.plot(pred_data)"
      ],
      "id": "e-2HSOrzKrjN",
      "execution_count": null,
      "outputs": [
        {
          "output_type": "execute_result",
          "data": {
            "image/png": "[encoded data removed]",
            "text/plain": [
              "<Figure size 720x432 with 1 Axes>"
            ]
          },
          "metadata": {},
          "execution_count": 30
        },
        {
          "output_type": "display_data",
          "data": {
            "image/png": "[encoded data removed]",
            "text/plain": [
              "<Figure size 720x432 with 1 Axes>"
            ]
          },
          "metadata": {}
        }
      ]
    },
    {
      "cell_type": "code",
      "metadata": {
        "colab": {
          "base_uri": "https://localhost:8080/",
          "height": 433
        },
        "id": "7xDbOqDbK1fg",
        "outputId": "02d72464-1b6c-4d4f-917e-6a930d0d8c19"
      },
      "source": [
        "model.plot_components(pred_data)"
      ],
      "id": "7xDbOqDbK1fg",
      "execution_count": null,
      "outputs": [
        {
          "output_type": "execute_result",
          "data": {
            "image/png": "[encoded data removed]",
            "text/plain": [
              "<Figure size 648x216 with 1 Axes>"
            ]
          },
          "metadata": {},
          "execution_count": 33
        },
        {
          "output_type": "display_data",
          "data": {
            "image/png": "[encoded data removed]",
            "text/plain": [
              "<Figure size 648x216 with 1 Axes>"
            ]
          },
          "metadata": {}
        }
      ]
    },
    {
      "cell_type": "markdown",
      "metadata": {
        "id": "Fiz_ffH6ukKF"
      },
      "source": [
        "**Analysis**\n",
        "\n",
        "For this assignment, we have used *'Facebook Prophet'* in order to predict whether NFL kickers will make or miss more kicks as the season progresses. We want to analyse this because the football season starts in August, and ends in February. Between August and January, the temperature drops a lot and inclement weather becomes more prevalent so we want to see if the weather is statistically more of a factor - especially with a lot of NFL teams playing in colder areas of the country up north and out west every week. We used Facebook prophet to predict whether kickers will be more likely to miss or make more kicks in January and February by using the data we have of all of the field goals made from August to December. From our models, we find that the ratio of made field goals to missed field goals only slightly increases throughout the season. From August to December, there seems to only be a .5% increase in the ratio of made field goals to missed field goals. Although we didn’t find any correlation between the change in seasons/change in weather and the ratio of made field goals to missed field goals, we still learned how to predict what the ratio will likely be for the future using data from what has already happened with Facebook Prophet. "
      ],
      "id": "Fiz_ffH6ukKF"
    }
  ]
}